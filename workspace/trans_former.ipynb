{
 "cells": [
  {
   "cell_type": "markdown",
   "id": "13d7e331",
   "metadata": {},
   "source": [
    "# 트랜스포머 인코더 시각화: 위치 인코딩\n",
    "\n",
    "이 노트북은 `manim` 라이브러리를 사용하여 트랜스포머 모델 인코더의 위치 인코딩(Positional Encoding) 단계를 시각화합니다."
   ]
  },
  {
   "cell_type": "code",
   "execution_count": 7,
   "id": "0feece34",
   "metadata": {},
   "outputs": [],
   "source": [
    "# 필요한 라이브러리 임포트\n",
    "import numpy as np\n",
    "from manim import *\n",
    "\n",
    "# manim 환경 설정 (선택 사항, 필요에 따라 조정)\n",
    "config.background_color = WHITE\n",
    "config.frame_height = 6\n",
    "config.frame_width = 10"
   ]
  },
  {
   "cell_type": "code",
   "execution_count": 9,
   "id": "d12a74d3",
   "metadata": {},
   "outputs": [
    {
     "data": {
      "text/html": [
       "<pre style=\"white-space:pre;overflow-x:auto;line-height:normal;font-family:Menlo,'DejaVu Sans Mono',consolas,'Courier New',monospace\">Manim Community <span style=\"color: #008000; text-decoration-color: #008000\">v0.19.0</span>\n",
       "\n",
       "</pre>\n"
      ],
      "text/plain": [
       "Manim Community \u001b[32mv0.\u001b[0m\u001b[32m19.0\u001b[0m\n",
       "\n"
      ]
     },
     "metadata": {},
     "output_type": "display_data"
    },
    {
     "name": "stderr",
     "output_type": "stream",
     "text": [
      "                                                                                                                 \r"
     ]
    },
    {
     "data": {
      "text/html": [
       "<video src=\"media/jupyter/PositionalEncodingVisualization@2025-04-11@04-41-50.mp4\" controls autoplay loop style=\"max-width: 60%;\"  >\n",
       "      Your browser does not support the <code>video</code> element.\n",
       "    </video>"
      ],
      "text/plain": [
       "<IPython.core.display.Video object>"
      ]
     },
     "metadata": {},
     "output_type": "display_data"
    }
   ],
   "source": [
    "%%manim -v WARNING -qh PositionalEncodingVisualization\n",
    "\n",
    "class PositionalEncodingVisualization(Scene):\n",
    "    def construct(self):\n",
    "        # 씬 배경색 설정 (노트북 셀 배경과 유사하게)\n",
    "        self.camera.background_color = WHITE\n",
    "\n",
    "        # 제목\n",
    "        title = Text(\"2. Positional Encoding\", color=BLACK).to_edge(UP)\n",
    "        self.play(Write(title))\n",
    "        self.wait(0.5)\n",
    "\n",
    "        # 임베딩 벡터 (이전 단계에서 생성되었다고 가정)\n",
    "        embedding_dim = 4\n",
    "        seq_len = 3\n",
    "        vector_height = 1.0\n",
    "        vector_width = 0.25\n",
    "\n",
    "        embeddings = VGroup(*[\n",
    "            VGroup(*[Rectangle(height=vector_height/embedding_dim, width=vector_width, fill_opacity=0.8, stroke_width=1, color=BLUE)\n",
    "                     for _ in range(embedding_dim)]).arrange(DOWN, buff=0)\n",
    "            for _ in range(seq_len)\n",
    "        ]).arrange(RIGHT, buff=0.8).shift(UP*0.5)\n",
    "        embedding_label = Text(\"Input Embeddings\", color=BLACK, font_size=24).next_to(embeddings, UP, buff=0.3)\n",
    "\n",
    "        self.play(FadeIn(embeddings), Write(embedding_label))\n",
    "        self.wait(0.5)\n",
    "\n",
    "        # 위치 인코딩 벡터 생성 (단순화된 시각화)\n",
    "        # 실제로는 sin/cos 함수 사용\n",
    "        positional_encodings = VGroup(*[\n",
    "            VGroup(*[Rectangle(height=vector_height/embedding_dim, width=vector_width, fill_opacity=0.8, stroke_width=1, color=interpolate_color(GREEN, RED, i/seq_len))\n",
    "                     for _ in range(embedding_dim)]).arrange(DOWN, buff=0)\n",
    "            for i in range(seq_len)\n",
    "        ]).arrange(RIGHT, buff=0.8).next_to(embeddings, DOWN, buff=1.5)\n",
    "        pe_label = Text(\"Positional Encodings\", color=BLACK, font_size=24).next_to(positional_encodings, UP, buff=0.3)\n",
    "\n",
    "        # 위치 인코딩 벡터 등장 애니메이션\n",
    "        pe_creation_anims = []\n",
    "        for i, pe_vec in enumerate(positional_encodings):\n",
    "            pos_text = Text(f\"pos={i}\", color=BLACK, font_size=18).next_to(pe_vec, DOWN, buff=0.2)\n",
    "            pe_creation_anims.extend([FadeIn(pe_vec, shift=DOWN*0.2), Write(pos_text)])\n",
    "\n",
    "        self.play(Write(pe_label))\n",
    "        self.play(LaggedStart(*pe_creation_anims, lag_ratio=0.7))\n",
    "        self.wait(0.5)\n",
    "\n",
    "        # 덧셈 기호\n",
    "        plus_signs = VGroup(*[MathTex(\"+\", color=BLACK).scale(1.5).move_to(\n",
    "            (embeddings[i].get_center() + positional_encodings[i].get_center()) / 2\n",
    "        ) for i in range(seq_len)])\n",
    "\n",
    "        self.play(LaggedStart(*[Write(p) for p in plus_signs], lag_ratio=0.5))\n",
    "        self.wait(0.5)\n",
    "\n",
    "        # 결과 벡터 (임베딩 + 위치 인코딩)\n",
    "        result_embeddings = VGroup(*[\n",
    "             VGroup(*[Rectangle(height=vector_height/embedding_dim, width=vector_width, fill_opacity=0.8, stroke_width=1, color=interpolate_color(BLUE, positional_encodings[i][0].get_color(), 0.5))\n",
    "                     for _ in range(embedding_dim)]).arrange(DOWN, buff=0)\n",
    "            for i in range(seq_len)\n",
    "        ]).arrange(RIGHT, buff=0.8).next_to(positional_encodings, DOWN, buff=1.5)\n",
    "        result_label = Text(\"Embeddings + Positional Encodings\", color=BLACK, font_size=24).next_to(result_embeddings, UP, buff=0.3)\n",
    "\n",
    "        # 결과 벡터 생성 애니메이션 (이동 및 결합)\n",
    "        transform_anims = []\n",
    "        for i in range(seq_len):\n",
    "            # 각 벡터 그룹 복사\n",
    "            emb_copy = embeddings[i].copy()\n",
    "            pe_copy = positional_encodings[i].copy()\n",
    "            # 결과 위치로 이동 및 결과 벡터로 변환\n",
    "            transform_anims.append(Transform(emb_copy, result_embeddings[i]))\n",
    "            transform_anims.append(Transform(pe_copy, result_embeddings[i])) # PE도 결과로 변환\n",
    "\n",
    "        self.play(Write(result_label))\n",
    "        # 원본 임베딩과 PE는 FadeOut, 복사본은 Transform\n",
    "        self.play(\n",
    "            LaggedStart(*transform_anims, lag_ratio=0.1),\n",
    "            FadeOut(embeddings),\n",
    "            FadeOut(positional_encodings),\n",
    "            FadeOut(embedding_label),\n",
    "            FadeOut(pe_label),\n",
    "            FadeOut(VGroup(*[p.mobject for p in pe_creation_anims[1::2]])), # pos=i 텍스트 FadeOut (오류 수정)\n",
    "            FadeOut(plus_signs)\n",
    "        )\n",
    "        # 결과 벡터 그룹을 중앙으로 이동\n",
    "        self.play(result_embeddings.animate.move_to(ORIGIN), result_label.animate.next_to(result_embeddings, UP, buff=0.3))\n",
    "\n",
    "        self.wait(2)"
   ]
  },
  {
   "cell_type": "code",
   "execution_count": null,
   "id": "654e40a9",
   "metadata": {},
   "outputs": [
    {
     "data": {
      "text/html": [
       "<pre style=\"white-space:pre;overflow-x:auto;line-height:normal;font-family:Menlo,'DejaVu Sans Mono',consolas,'Courier New',monospace\">Manim Community <span style=\"color: #008000; text-decoration-color: #008000\">v0.19.0</span>\n",
       "\n",
       "</pre>\n"
      ],
      "text/plain": [
       "Manim Community \u001b[32mv0.\u001b[0m\u001b[32m19.0\u001b[0m\n",
       "\n"
      ]
     },
     "metadata": {},
     "output_type": "display_data"
    },
    {
     "name": "stderr",
     "output_type": "stream",
     "text": [
      "                                                                                                                             "
     ]
    },
    {
     "data": {
      "text/html": [
       "<video src=\"media/jupyter/CircleAreaCalculation@2025-04-11@04-46-58.mp4\" controls autoplay loop style=\"max-width: 60%;\"  >\n",
       "      Your browser does not support the <code>video</code> element.\n",
       "    </video>"
      ],
      "text/plain": [
       "<IPython.core.display.Video object>"
      ]
     },
     "metadata": {},
     "output_type": "display_data"
    }
   ],
   "source": [
    "%%manim -v WARNING -qh CircleAreaCalculation\n",
    "\n",
    "class CircleAreaCalculation(Scene):\n",
    "    def construct(self):\n",
    "        # 원 생성\n",
    "        circle = Circle(radius=2)\n",
    "        circle.set_fill(BLUE, opacity=0.5)\n",
    "\n",
    "        # 텍스트 생성\n",
    "        radius_text = MathTex(r\"r = 2\")\n",
    "        area_formula = MathTex(r\"A = \\pi r^2\")\n",
    "        area_result = MathTex(r\"A = \\pi \\cdot 2^2 = 4\\pi \\approx 12.57\")\n",
    "\n",
    "        # 텍스트 배치\n",
    "        radius_text.next_to(circle, DOWN)\n",
    "        VGroup(area_formula, area_result).arrange(DOWN).next_to(circle, RIGHT)\n",
    "\n",
    "        # 애니메이션 실행\n",
    "        self.play(Create(circle))\n",
    "        self.play(Write(radius_text))\n",
    "        self.wait(1)\n",
    "        self.play(Write(area_formula))\n",
    "        self.wait(1)\n",
    "        self.play(Write(area_result))\n",
    "        self.wait(2)\n"
   ]
  },
  {
   "cell_type": "code",
   "execution_count": 14,
   "id": "4fe01cea",
   "metadata": {},
   "outputs": [
    {
     "data": {
      "text/html": [
       "<pre style=\"white-space:pre;overflow-x:auto;line-height:normal;font-family:Menlo,'DejaVu Sans Mono',consolas,'Courier New',monospace\">Manim Community <span style=\"color: #008000; text-decoration-color: #008000\">v0.19.0</span>\n",
       "\n",
       "</pre>\n"
      ],
      "text/plain": [
       "Manim Community \u001b[32mv0.\u001b[0m\u001b[32m19.0\u001b[0m\n",
       "\n"
      ]
     },
     "metadata": {},
     "output_type": "display_data"
    },
    {
     "name": "stderr",
     "output_type": "stream",
     "text": [
      "                                                                                                                         "
     ]
    },
    {
     "data": {
      "text/html": [
       "<video src=\"media/jupyter/ExpWithBars@2025-04-11@04-59-26.mp4\" controls autoplay loop style=\"max-width: 60%;\"  >\n",
       "      Your browser does not support the <code>video</code> element.\n",
       "    </video>"
      ],
      "text/plain": [
       "<IPython.core.display.Video object>"
      ]
     },
     "metadata": {},
     "output_type": "display_data"
    }
   ],
   "source": [
    "%%manim -v WARNING -qh ExpWithBars\n",
    "\n",
    "class ExpWithBars(Scene):\n",
    "    def construct(self):\n",
    "        # Title\n",
    "        title = Text(\"Visualizing exp(score) in Attention\", font_size=36, color=YELLOW)\n",
    "        title.to_edge(UP, buff=0.5)\n",
    "        self.play(Write(title))\n",
    "        self.wait(0.5)\n",
    "\n",
    "        # Narration 1\n",
    "        narration1 = Paragraph(\n",
    "            \"We start with raw attention scores from the dot product of Query and Key.\",\n",
    "            font_size=24, width=10\n",
    "        ).to_edge(DOWN, buff=0.5)\n",
    "        self.play(Write(narration1))\n",
    "        self.wait(1)\n",
    "\n",
    "        # Raw scores\n",
    "        raw_scores = [-1, 0, 1]\n",
    "        bar_colors = [BLUE, ORANGE, GREEN]\n",
    "\n",
    "        raw_bars = VGroup()\n",
    "        raw_labels = VGroup()\n",
    "        for i, score in enumerate(raw_scores):\n",
    "            height = score + 2  # shift to make -1 visible (base = 1)\n",
    "            rect = Rectangle(width=0.5, height=height, color=bar_colors[i], fill_opacity=0.7)\n",
    "            rect.shift(DOWN * (1 - height / 2))  # adjust so all bars start at y= -1\n",
    "            label = MathTex(str(score)).scale(0.8).next_to(rect, DOWN, buff=0.2)\n",
    "            group = VGroup(rect, label)\n",
    "            raw_bars.add(group)\n",
    "\n",
    "        raw_bars.arrange(RIGHT, buff=1)\n",
    "        raw_bars.shift(UP * 0.5)\n",
    "\n",
    "        raw_label = Text(\"Raw Scores\", font_size=28).next_to(raw_bars, UP, buff=0.3)\n",
    "        self.play(Write(raw_label), Create(raw_bars))\n",
    "        self.wait(1.5)\n",
    "\n",
    "        # Narration 2\n",
    "        self.play(FadeOut(narration1))\n",
    "        narration2 = Paragraph(\n",
    "            \"Now we apply the exponential function to each score.\",\n",
    "            font_size=24, width=10\n",
    "        ).to_edge(DOWN, buff=0.5)\n",
    "        self.play(Write(narration2))\n",
    "        self.wait(1.5)\n",
    "\n",
    "        # exp(score) -> new heights\n",
    "        exp_scores = [np.exp(s) for s in raw_scores]\n",
    "        max_height = max(exp_scores)\n",
    "\n",
    "        exp_bars = VGroup()\n",
    "        exp_labels = VGroup()\n",
    "        for i, val in enumerate(exp_scores):\n",
    "            height = (val / max_height) * 3  # Normalize to max height = 3 for viewport\n",
    "            rect = Rectangle(width=0.5, height=height, color=bar_colors[i], fill_opacity=0.7)\n",
    "            rect.shift(DOWN * (1 - height / 2))  # anchor bottom at y = -1\n",
    "            label = MathTex(r\"\\exp(\" + str(raw_scores[i]) + r\") = \" + str(round(val, 2))).scale(0.8)\n",
    "            label.next_to(rect, DOWN, buff=0.2)\n",
    "            group = VGroup(rect, label)\n",
    "            exp_bars.add(group)\n",
    "\n",
    "        exp_bars.arrange(RIGHT, buff=1)\n",
    "        exp_bars.shift(DOWN * 1.2)\n",
    "\n",
    "        exp_label = Text(\"After exp(score)\", font_size=28).next_to(exp_bars, UP, buff=0.3)\n",
    "\n",
    "        # Animate transform from raw to exp\n",
    "        self.play(Transform(raw_label, exp_label), Transform(raw_bars, exp_bars))\n",
    "        self.wait(2)\n",
    "\n",
    "        # Narration 3\n",
    "        self.play(FadeOut(narration2))\n",
    "        narration3 = Paragraph(\n",
    "            \"The exponential highlights large scores while shrinking smaller ones.\",\n",
    "            font_size=24, width=10\n",
    "        ).to_edge(DOWN, buff=0.5)\n",
    "        self.play(Write(narration3))\n",
    "        self.wait(2)\n",
    "\n",
    "        # Fade everything out\n",
    "        self.play(\n",
    "            FadeOut(title),\n",
    "            FadeOut(exp_label),\n",
    "            FadeOut(raw_bars),\n",
    "            FadeOut(narration3)\n",
    "        )\n",
    "        self.wait()\n",
    "\n",
    "\n"
   ]
  },
  {
   "cell_type": "code",
   "execution_count": null,
   "id": "055dd682",
   "metadata": {},
   "outputs": [
    {
     "data": {
      "text/html": [
       "<pre style=\"white-space:pre;overflow-x:auto;line-height:normal;font-family:Menlo,'DejaVu Sans Mono',consolas,'Courier New',monospace\">Manim Community <span style=\"color: #008000; text-decoration-color: #008000\">v0.19.0</span>\n",
       "\n",
       "</pre>\n"
      ],
      "text/plain": [
       "Manim Community \u001b[32mv0.\u001b[0m\u001b[32m19.0\u001b[0m\n",
       "\n"
      ]
     },
     "metadata": {},
     "output_type": "display_data"
    },
    {
     "name": "stderr",
     "output_type": "stream",
     "text": [
      "                                                                                        "
     ]
    },
    {
     "data": {
      "text/html": [
       "<video src=\"media/jupyter/RectangleColumns@2025-04-11@05-15-23.mp4\" controls autoplay loop style=\"max-width: 60%;\"  >\n",
       "      Your browser does not support the <code>video</code> element.\n",
       "    </video>"
      ],
      "text/plain": [
       "<IPython.core.display.Video object>"
      ]
     },
     "metadata": {},
     "output_type": "display_data"
    }
   ],
   "source": [
    "%%manim -v WARNING -qh RectangleColumns\n",
    "\n",
    "class RectangleColumns(Scene):\n",
    "    def construct(self):\n",
    "        self.camera.background_color = WHITE # 배경 흰색으로 설정\n",
    "\n",
    "        square_side = 0.8 # 정사각형 변 길이\n",
    "        num_squares = 4\n",
    "        column_buff = 0.2 # 열 내 사각형 간 간격\n",
    "        inter_column_buff = 3 # 열 간 간격\n",
    "\n",
    "        # 왼쪽 열 색상 (파란색 계열)\n",
    "        left_colors = [BLUE_E, BLUE_D, BLUE_C, BLUE_B]\n",
    "        # 오른쪽 열 색상 (초록색 계열)\n",
    "        right_colors = [GREEN_E, GREEN_D, GREEN_C, GREEN_B]\n",
    "\n",
    "        # 왼쪽 열 생성 (정사각형으로 변경)\n",
    "        left_column = VGroup(*[\n",
    "            Square(side_length=square_side, color=left_colors[i], fill_opacity=0.8, stroke_color=BLACK, stroke_width=2) # 테두리 추가\n",
    "            for i in range(num_squares)\n",
    "        ]).arrange(DOWN, buff=column_buff)\n",
    "\n",
    "        # 오른쪽 열 생성 (정사각형으로 변경)\n",
    "        right_column = VGroup(*[\n",
    "            Square(side_length=square_side, color=right_colors[i], fill_opacity=0.8, stroke_color=BLACK, stroke_width=2) # 테두리 추가\n",
    "            for i in range(num_squares)\n",
    "        ]).arrange(DOWN, buff=column_buff)\n",
    "\n",
    "        # 전체 그룹 생성 및 배치\n",
    "        columns = VGroup(left_column, right_column).arrange(RIGHT, buff=inter_column_buff)\n",
    "\n",
    "        # 애니메이션\n",
    "        self.play(Create(columns))\n",
    "        self.wait(1) # 초기 대기 시간\n",
    "\n",
    "        # --- 첫 번째 정사각형 분할 및 이동 ---\n",
    "        source_square = left_column[0]\n",
    "        source_color = source_square.get_color()\n",
    "        small_square_side = square_side / 2\n",
    "\n",
    "        # 작은 정사각형 4개 생성 (초기 위치는 원본 정사각형 내부)\n",
    "        small_squares = VGroup()\n",
    "        positions = [\n",
    "            source_square.get_center() + UL * small_square_side / 2,\n",
    "            source_square.get_center() + UR * small_square_side / 2,\n",
    "            source_square.get_center() + DL * small_square_side / 2,\n",
    "            source_square.get_center() + DR * small_square_side / 2,\n",
    "        ]\n",
    "        for pos in positions:\n",
    "            small_sq = Square(side_length=small_square_side, color=source_color, fill_opacity=0.8, stroke_color=BLACK, stroke_width=1)\n",
    "            small_sq.move_to(pos)\n",
    "            small_squares.add(small_sq)\n",
    "\n",
    "        # 원본 정사각형을 작은 정사각형 4개로 변환 (분할 효과)\n",
    "        self.play(ReplacementTransform(source_square, small_squares), run_time=1)\n",
    "        self.wait(0.5)\n",
    "\n",
    "        # 작은 정사각형들을 오른쪽 열의 각 정사각형으로 이동\n",
    "        move_anims = []\n",
    "        for i in range(num_squares):\n",
    "            move_anims.append(small_squares[i].animate.move_to(right_column[i].get_center()))\n",
    "\n",
    "        self.play(LaggedStart(*move_anims, lag_ratio=0.2), run_time=1.5)\n",
    "        self.wait(0.5)\n",
    "\n",
    "        # 작은 정사각형들 사라짐\n",
    "        self.play(FadeOut(small_squares))\n",
    "\n",
    "        self.wait(2) # 최종 대기 시간"
   ]
  },
  {
   "cell_type": "code",
   "execution_count": null,
   "id": "86c8ee3d",
   "metadata": {},
   "outputs": [],
   "source": [
    "# 이전 셀에서 생성된 비디오 또는 마지막 프레임 표시\n",
    "# %%manim 매직 명령은 기본적으로 비디오 파일을 생성하고 표시합니다.\n",
    "# 만약 마지막 프레임 이미지만 필요하다면 %%manim 명령에 -s 플래그를 추가하고 아래 코드를 사용하세요.\n",
    "\n",
    "# from IPython.display import Image, display\n",
    "# import os\n",
    "# image_path = os.path.join(\"media\", \"images\", \"trans_former\", \"PositionalEncodingVisualization_ManimCE_v0.18.1.png\") # 파일명은 manim 버전에 따라 다를 수 있음\n",
    "# if os.path.exists(image_path):\n",
    "#     display(Image(filename=image_path))\n",
    "# else:\n",
    "#     print(f\"이미지 파일을 찾을 수 없습니다: {image_path}\")\n",
    "#     print(\"이전 셀 실행 시 오류가 발생했거나 이미지 파일 경로가 다를 수 있습니다.\")"
   ]
  }
 ],
 "metadata": {
  "kernelspec": {
   "display_name": "pytorch_env",
   "language": "python",
   "name": "python3"
  },
  "language_info": {
   "codemirror_mode": {
    "name": "ipython",
    "version": 3
   },
   "file_extension": ".py",
   "mimetype": "text/x-python",
   "name": "python",
   "nbconvert_exporter": "python",
   "pygments_lexer": "ipython3",
   "version": "3.10.14"
  }
 },
 "nbformat": 4,
 "nbformat_minor": 5
}
